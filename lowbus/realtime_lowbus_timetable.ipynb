{
 "cells": [
  {
   "cell_type": "markdown",
   "metadata": {},
   "source": [
    "저상버스의 노선별 정류소간 소요시간을 저장하는 DB"
   ]
  },
  {
   "cell_type": "code",
   "execution_count": 1,
   "metadata": {},
   "outputs": [],
   "source": [
    "import sqlalchemy\n",
    "from sqlalchemy import create_engine\n",
    "from sqlalchemy import MetaData\n",
    "from sqlalchemy import Table, Column, Integer, String\n",
    "from sqlalchemy.sql import select"
   ]
  },
  {
   "cell_type": "code",
   "execution_count": 2,
   "metadata": {},
   "outputs": [
    {
     "name": "stdout",
     "output_type": "stream",
     "text": [
      "2018-08-15 18:57:11,203 INFO sqlalchemy.engine.base.Engine SELECT CAST('test plain returns' AS VARCHAR(60)) AS anon_1\n",
      "2018-08-15 18:57:11,210 INFO sqlalchemy.engine.base.Engine ()\n",
      "2018-08-15 18:57:11,211 INFO sqlalchemy.engine.base.Engine SELECT CAST('test unicode returns' AS VARCHAR(60)) AS anon_1\n",
      "2018-08-15 18:57:11,212 INFO sqlalchemy.engine.base.Engine ()\n",
      "2018-08-15 18:57:11,213 INFO sqlalchemy.engine.base.Engine PRAGMA table_info(\"time_btw_st\")\n",
      "2018-08-15 18:57:11,214 INFO sqlalchemy.engine.base.Engine ()\n",
      "2018-08-15 18:57:11,216 INFO sqlalchemy.engine.base.Engine \n",
      "CREATE TABLE time_btw_st (\n",
      "\t_id INTEGER NOT NULL, \n",
      "\t\"routeId\" INTEGER NOT NULL, \n",
      "\tday VARCHAR(8) NOT NULL, \n",
      "\ttime VARCHAR(6) NOT NULL, \n",
      "\t\"nextStTm\" INTEGER, \n",
      "\t\"posX\" VARCHAR, \n",
      "\t\"posY\" VARCHAR, \n",
      "\tPRIMARY KEY (_id)\n",
      ")\n",
      "\n",
      "\n",
      "2018-08-15 18:57:11,217 INFO sqlalchemy.engine.base.Engine ()\n",
      "2018-08-15 18:57:11,218 INFO sqlalchemy.engine.base.Engine COMMIT\n"
     ]
    }
   ],
   "source": [
    "engine = create_engine(\"sqlite:///\", echo=True)\n",
    "metadata = MetaData()\n",
    "\n",
    "time_btw_st = Table('time_btw_st', metadata, \n",
    "              Column('_id', Integer, primary_key =True, autoincrement=True ),\n",
    "              Column('routeId', Integer, nullable = False),\n",
    "              Column('day', String(8), nullable = False), \n",
    "              Column('time',String(6), nullable = False),\n",
    "              Column('nextStTm',Integer),\n",
    "              Column('posX',String), \n",
    "              Column('posY',String))  \n",
    "\n",
    "metadata.create_all(engine) \n",
    "conn = engine.connect()"
   ]
  },
  {
   "cell_type": "markdown",
   "metadata": {},
   "source": [
    "입력한 버스노선의 위치를 실시간으로 추적하며 정류장 간 소요시간을 시간별로 저장하는 함수"
   ]
  },
  {
   "cell_type": "code",
   "execution_count": 3,
   "metadata": {},
   "outputs": [],
   "source": [
    "import requests\n",
    "from bs4 import BeautifulSoup\n",
    "import time"
   ]
  },
  {
   "cell_type": "code",
   "execution_count": 4,
   "metadata": {},
   "outputs": [],
   "source": [
    "url =  \"http://ws.bus.go.kr/api/rest/buspos/getLowBusPosByRtid\"\n",
    "serviceKey = \"ifKRU73xKAdgp5Z2cQ6BDZSHhEOvKL8TNiEegFTFxtM9AWL6l0Wx8WJ4DfmQDZrTjjb509tqW0hO2wA9FE%2BWsQ%3D%3D\"\n",
    "routeID = \"100100055\"\n",
    "routeIDs = []"
   ]
  },
  {
   "cell_type": "markdown",
   "metadata": {},
   "source": [
    "버스 한 대의 현재 위치와 다음 정류장까지의 소요시간, 종점까지의 소요시간 등의 데이터를 불러오는 함수"
   ]
  },
  {
   "cell_type": "code",
   "execution_count": 5,
   "metadata": {},
   "outputs": [],
   "source": [
    "def getbus(routeID, vehID=None):\n",
    "    data = requests.get(url+ \"?serviceKey=\"+serviceKey+\"&busRouteId=\"+routeID)\n",
    "    xml = BeautifulSoup(data.text, \"lxml\")\n",
    "    \n",
    "    try:\n",
    "        busList = xml.findAll(\"itemlist\")   #해당 노선의 현재 운행중인 모든 저상버스\n",
    "        \n",
    "        if vehID==None:\n",
    "            bus = busList[0]   #추적 중인 버스가 없을 때는 가장 최근에 운행을 시작한 버스를 추적\n",
    "            \n",
    "        else:\n",
    "            bus = xml.find('vehid', text=vehID).findParent()   #추적 중인 버스가 있을 때는 해당 버스를 계속 추적\n",
    "            \n",
    "        busData = { 'vehId':bus.vehid.text,'date': bus.datatm.text[:8], 'time':bus.datatm.text[8:], 'sectionId':int(bus.sectionid.text),\n",
    "                   'nextStTm': int(bus.nextsttm.text), 'lastStTm': int(bus.laststtm.text),'stopflag':int(bus.stopflag.text),\n",
    "                   'posX': float(bus.tmx.text), 'posY':float(bus.tmy.text)\n",
    "                  }\n",
    "        return busData\n",
    "    \n",
    "    except:   #해당 노선의 현재 운행 중인 버스가 없을 경우 빈 리스트 반환\n",
    "        return {}"
   ]
  },
  {
   "cell_type": "markdown",
   "metadata": {},
   "source": [
    "해당 노선의 운행중인 저상버스를 운행 종료시까지 20초 간격으로 반복 호출하며 시간별 정류장 사이의 소요시간을 DB에 저장"
   ]
  },
  {
   "cell_type": "code",
   "execution_count": 13,
   "metadata": {},
   "outputs": [],
   "source": [
    "def makeTimeDB(routeID):\n",
    "    try:  #노선id가 존재하지 않거나 운행이 종료되어 현재 운행중인 버스가 없는 경우 종료\n",
    "        while True:  \n",
    "            temp = getbus(routeID)\n",
    "            \n",
    "            if not temp: #더이상 운행하는 버스가 없을 때 반복 종료\n",
    "                break\n",
    "              \n",
    "            nextStTm = temp['nextStTm']     #다음 정류장 소요시간\n",
    "            lastStTm = temp['lastStTm']     #종점 소요시간  \n",
    "            stop = temp['stopflag']\n",
    "            time.sleep(20)\n",
    "\n",
    "            while nextStTm <= lastStTm:   #종점까지의 소요시간이 다음 정거장까지의 소요시간보다 짧을 때(즉 종점에 다다랐을 때) 종료\n",
    "                temp = getbus(routeID, temp['vehId'])\n",
    "                print(\"last: \",lastStTm)\n",
    "                print(\"next_p: \",nextStTm)\n",
    "                print(\"next_c: \",temp['nextStTm'])\n",
    "                print('stop: ', temp['stopflag'])\n",
    "                if (not stop and temp['stopflag']) or nextStTm < temp['nextStTm']: #정류장에 도착했거나 정류장을 지나간 경우\n",
    "                    conn.execute(time_btw_st.insert(), routeId = routeID, day = temp['date'], time = temp['time'],\n",
    "                                               nextStTm = temp['nextStTm'], posX = temp['posX'], posY = temp['posY']) \n",
    "\n",
    "                lastStTm = temp['lastStTm']\n",
    "                nextStTm = temp['nextStTm']\n",
    "                stop = temp['stopflag']\n",
    "                time.sleep(20)\n",
    "                \n",
    "        return 1\n",
    "\n",
    "    except:\n",
    "        return 0"
   ]
  },
  {
   "cell_type": "code",
   "execution_count": 14,
   "metadata": {},
   "outputs": [
    {
     "name": "stdout",
     "output_type": "stream",
     "text": [
      "last:  10662\n",
      "next_p:  668\n",
      "next_c:  668\n",
      "stop:  0\n",
      "last:  10662\n",
      "next_p:  668\n",
      "next_c:  581\n",
      "stop:  1\n",
      "2018-08-14 12:05:30,622 INFO sqlalchemy.engine.base.Engine INSERT INTO time_btw_st (\"routeId\", day, time, \"nextStTm\", \"posX\", \"posY\") VALUES (?, ?, ?, ?, ?, ?)\n",
      "2018-08-14 12:05:30,623 INFO sqlalchemy.engine.base.Engine ('100100055', '20180814', '120527', 581, 127.176941, 37.565812)\n",
      "2018-08-14 12:05:30,625 INFO sqlalchemy.engine.base.Engine COMMIT\n",
      "last:  10603\n",
      "next_p:  581\n",
      "next_c:  581\n",
      "stop:  0\n",
      "last:  10603\n",
      "next_p:  581\n",
      "next_c:  520\n",
      "stop:  1\n",
      "2018-08-14 12:06:10,793 INFO sqlalchemy.engine.base.Engine INSERT INTO time_btw_st (\"routeId\", day, time, \"nextStTm\", \"posX\", \"posY\") VALUES (?, ?, ?, ?, ?, ?)\n",
      "2018-08-14 12:06:10,794 INFO sqlalchemy.engine.base.Engine ('100100055', '20180814', '120607', 520, 127.174011, 37.564139)\n",
      "2018-08-14 12:06:10,796 INFO sqlalchemy.engine.base.Engine COMMIT\n",
      "last:  10538\n",
      "next_p:  520\n",
      "next_c:  520\n",
      "stop:  1\n",
      "last:  10538\n",
      "next_p:  520\n",
      "next_c:  520\n",
      "stop:  0\n",
      "last:  10538\n",
      "next_p:  520\n",
      "next_c:  434\n",
      "stop:  1\n",
      "2018-08-14 12:07:14,033 INFO sqlalchemy.engine.base.Engine INSERT INTO time_btw_st (\"routeId\", day, time, \"nextStTm\", \"posX\", \"posY\") VALUES (?, ?, ?, ?, ?, ?)\n",
      "2018-08-14 12:07:14,034 INFO sqlalchemy.engine.base.Engine ('100100055', '20180814', '120707', 434, 127.170447, 37.561162)\n",
      "2018-08-14 12:07:14,036 INFO sqlalchemy.engine.base.Engine COMMIT\n",
      "last:  10444\n",
      "next_p:  434\n",
      "next_c:  434\n",
      "stop:  1\n",
      "last:  10444\n",
      "next_p:  434\n",
      "next_c:  434\n",
      "stop:  0\n",
      "last:  10444\n",
      "next_p:  434\n",
      "next_c:  394\n",
      "stop:  1\n",
      "2018-08-14 12:08:14,258 INFO sqlalchemy.engine.base.Engine INSERT INTO time_btw_st (\"routeId\", day, time, \"nextStTm\", \"posX\", \"posY\") VALUES (?, ?, ?, ?, ?, ?)\n",
      "2018-08-14 12:08:14,259 INFO sqlalchemy.engine.base.Engine ('100100055', '20180814', '120808', 394, 127.171086, 37.558615)\n",
      "2018-08-14 12:08:14,262 INFO sqlalchemy.engine.base.Engine COMMIT\n"
     ]
    },
    {
     "data": {
      "text/plain": [
       "0"
      ]
     },
     "execution_count": 14,
     "metadata": {},
     "output_type": "execute_result"
    }
   ],
   "source": [
    "makeTimeDB(routeID)"
   ]
  },
  {
   "cell_type": "markdown",
   "metadata": {},
   "source": [
    "DB 입력 확인"
   ]
  },
  {
   "cell_type": "code",
   "execution_count": 15,
   "metadata": {},
   "outputs": [
    {
     "name": "stdout",
     "output_type": "stream",
     "text": [
      "2018-08-14 12:08:54,031 INFO sqlalchemy.engine.base.Engine SELECT time_btw_st._id, time_btw_st.\"routeId\", time_btw_st.day, time_btw_st.time, time_btw_st.\"nextStTm\", time_btw_st.\"posX\", time_btw_st.\"posY\" \n",
      "FROM time_btw_st\n",
      "2018-08-14 12:08:54,032 INFO sqlalchemy.engine.base.Engine ()\n",
      "(1, 100100055, '20180814', '115501', 1214, '127.155935', '37.555362')\n",
      "(2, 100100055, '20180814', '120246', 668, '127.178364', '37.564645')\n",
      "(3, 100100055, '20180814', '120306', 668, '127.178305', '37.564781')\n",
      "(4, 100100055, '20180814', '120527', 581, '127.176941', '37.565812')\n",
      "(5, 100100055, '20180814', '120607', 520, '127.174011', '37.564139')\n",
      "(6, 100100055, '20180814', '120707', 434, '127.170447', '37.561162')\n",
      "(7, 100100055, '20180814', '120808', 394, '127.171086', '37.558615')\n"
     ]
    }
   ],
   "source": [
    "for row in conn.execute(select([time_btw_st])):\n",
    "    print(row)"
   ]
  },
  {
   "cell_type": "code",
   "execution_count": null,
   "metadata": {},
   "outputs": [],
   "source": []
  }
 ],
 "metadata": {
  "kernelspec": {
   "display_name": "Python 3",
   "language": "python",
   "name": "python3"
  },
  "language_info": {
   "codemirror_mode": {
    "name": "ipython",
    "version": 3
   },
   "file_extension": ".py",
   "mimetype": "text/x-python",
   "name": "python",
   "nbconvert_exporter": "python",
   "pygments_lexer": "ipython3",
   "version": "3.6.5"
  }
 },
 "nbformat": 4,
 "nbformat_minor": 2
}
