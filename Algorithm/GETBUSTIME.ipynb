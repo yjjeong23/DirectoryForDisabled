{
 "cells": [
  {
   "cell_type": "code",
   "execution_count": 10,
   "metadata": {},
   "outputs": [],
   "source": [
    "import sqlite3\n",
    "import datetime\n",
    "conn = sqlite3.connect('Bethoven.db')\n",
    "cur = conn.cursor()"
   ]
  },
  {
   "cell_type": "code",
   "execution_count": 41,
   "metadata": {},
   "outputs": [],
   "source": [
    "def GetBusTime(RouteId, stationId, hr, mn):\n",
    "    conn = sqlite3.connect('Bethoven.db')\n",
    "    cur = conn.cursor()\n",
    "    cur.execute(\"SELECT routeId,arrivalTm, BusStationID FROM BUST\")\n",
    "    rows = cur.fetchall()\n",
    "    haha =[]\n",
    "    for row in rows:\n",
    "        haha.append(int(row[0]))\n",
    "    haha=set(haha)\n",
    "    \n",
    "    if RouteId not in haha:\n",
    "        return False\n",
    "    \n",
    "    clock = []\n",
    "    for row in rows:\n",
    "        if int(row[0])==RouteId:\n",
    "            if int(row[2])==stationId:\n",
    "                clock.append(int(row[1]))\n",
    "    target=0\n",
    "    for c in clock:\n",
    "        if datetime.time(hr,mn)<datetime.time(int(c/10000), int((c/100)%100)):\n",
    "            target=c\n",
    "            return c\n",
    "    return clock[0]"
   ]
  },
  {
   "cell_type": "code",
   "execution_count": 45,
   "metadata": {
    "scrolled": true
   },
   "outputs": [
    {
     "name": "stdout",
     "output_type": "stream",
     "text": [
      "[147, 2252, 61333, 62325, 62425, 63054, 64304, 65927, 70027, 70811, 71907, 72629, 74051, 75038, 80713, 81507, 82713, 84026, 84121, 85121, 90325, 91540, 92326, 92426, 93638, 93738, 95103, 101620, 101720, 102500, 103704, 105138, 111344, 112548, 112644, 113222, 115630, 120824, 120931, 122544, 123805, 123857, 125105, 125159, 130844, 132037, 132138, 132816, 132930, 133922, 134022, 134550, 135757, 135857, 140549, 140649, 141657, 143529, 143630, 144840, 144940, 150151, 150252, 151824, 152610, 152724, 155240, 161116, 161217, 162754, 163422, 164112, 165627, 165746, 170421, 171822, 173245, 181001, 182311, 183316, 184458, 190758, 191853, 193752, 195619, 200738, 203035, 204554, 205959, 211321, 212046, 213718, 214605, 220323, 221712, 223649, 224644, 225203, 230913, 231851, 233626, 234154, 235035]\n"
     ]
    },
    {
     "data": {
      "text/plain": [
       "147"
      ]
     },
     "execution_count": 45,
     "metadata": {},
     "output_type": "execute_result"
    }
   ],
   "source": [
    "GetBusTime(100100010,108157,,59)"
   ]
  },
  {
   "cell_type": "code",
   "execution_count": null,
   "metadata": {},
   "outputs": [],
   "source": []
  }
 ],
 "metadata": {
  "kernelspec": {
   "display_name": "Python 3",
   "language": "python",
   "name": "python3"
  },
  "language_info": {
   "codemirror_mode": {
    "name": "ipython",
    "version": 3
   },
   "file_extension": ".py",
   "mimetype": "text/x-python",
   "name": "python",
   "nbconvert_exporter": "python",
   "pygments_lexer": "ipython3",
   "version": "3.6.5"
  }
 },
 "nbformat": 4,
 "nbformat_minor": 2
}
