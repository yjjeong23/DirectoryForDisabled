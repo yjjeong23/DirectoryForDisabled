{
 "cells": [
  {
   "cell_type": "markdown",
   "metadata": {},
   "source": [
    "# Subway_Timetable_DB"
   ]
  },
  {
   "cell_type": "markdown",
   "metadata": {},
   "source": [
    "http://subway.koreatriptips.com/subway-station.html 에서 지하철 역당 시간표를 Crawling 한다."
   ]
  },
  {
   "cell_type": "code",
   "execution_count": 1,
   "metadata": {},
   "outputs": [],
   "source": [
    "from selenium import webdriver\n",
    "from selenium.webdriver.common.keys import Keys\n",
    "from bs4 import BeautifulSoup\n",
    "import time"
   ]
  },
  {
   "cell_type": "code",
   "execution_count": 2,
   "metadata": {},
   "outputs": [],
   "source": [
    "import sqlite3\n",
    "import sqlalchemy\n",
    "from sqlalchemy import create_engine\n",
    "from sqlalchemy import MetaData\n",
    "from sqlalchemy import Table, Column, Integer, String, MetaData, ForeignKey"
   ]
  },
  {
   "cell_type": "markdown",
   "metadata": {},
   "source": [
    "---"
   ]
  },
  {
   "cell_type": "markdown",
   "metadata": {},
   "source": [
    "지하철 호선과 역당 시간을 저장한다. \n",
    "\n",
    "- function name : for_subway_timetable"
   ]
  },
  {
   "cell_type": "code",
   "execution_count": 3,
   "metadata": {},
   "outputs": [],
   "source": [
    "def for_subway_timetable():\n",
    "    url = \"https://search.naver.com/search.naver?where=nexearch&sm=top_hty&fbm=1&ie=utf8&query=%EC%A7%80%ED%95%98%EC%B2%A0+%EC%8B%9C%EA%B0%84%ED%91%9C\"\n",
    "\n",
    "    # chrome webdriver 이용\n",
    "    browser = webdriver.Chrome('/Users/sony/Downloads/chromedriver_win32/chromedriver')\n",
    "    browser.get(url)\n",
    "    time.sleep(1)\n",
    "\n",
    "    html = browser.page_source\n",
    "    dom = BeautifulSoup(html, \"lxml\")\n",
    "    browser.find_element_by_css_selector(\"a.select._lane_selectbox\").click() # line 옵션 선택 버튼 클릭\n",
    "    for_line = dom.select(\"div.traff_slayer._lane_layer li > a\") # line links 받음\n",
    "\n",
    "    conn = engine.connect()\n",
    "\n",
    "    for_pass = [12, 14, 17, 18, 19]\n",
    "    for i in range(1, 21):\n",
    "        if i not in for_pass:\n",
    "            if i != 1:\n",
    "                browser.find_element_by_css_selector(\"a.select._lane_selectbox\").click() # line 옵션 선택 버튼 클릭\n",
    "            href = \"div.traff_slayer._lane_layer li:nth-child(\" + str(i+1) + \") > a\"\n",
    "            browser.find_element_by_css_selector(href).click()\n",
    "\n",
    "            html = browser.page_source\n",
    "            dom = BeautifulSoup(html, \"lxml\")\n",
    "            for_station = dom.select(\"div.traff_slayer._station_layer li > a\") # station links 받음\n",
    "\n",
    "            for j in range(1, len(for_station)):\n",
    "                if j != 1:\n",
    "                    browser.find_element_by_css_selector(\"a.select._lane_selectbox\").click()\n",
    "                    href = \"div.traff_slayer._lane_layer li:nth-child(\" + str(i+1) + \") > a\"\n",
    "                    browser.find_element_by_css_selector(href).click()\n",
    "                href = \"div.traff_slayer._station_layer li:nth-child(\" + str(j+1) + \") > a\"\n",
    "                browser.find_element_by_css_selector(href).click()\n",
    "\n",
    "                browser.find_element_by_css_selector(\"div.traf_section._subway_schedule_content a.search\").click() # 검색 버튼 클릭\n",
    "\n",
    "                browser.switch_to.window(browser.window_handles[1]) # 클릭으로 생성된 새 탭으로 이동\n",
    "                time.sleep(2)\n",
    "                browser.find_element_by_css_selector(\"#_subwayTimetable > a\").click() # 열차 시간표 클릭\n",
    "                html = browser.page_source\n",
    "                dom = BeautifulSoup(html, \"lxml\")\n",
    "\n",
    "                for_time = dom.select(\"#_dayTabContents tbody tr\") # 시간표 받아옴\n",
    "\n",
    "                for_week_count = 0\n",
    "                for_day_of_week = ['weekday', 'Saturday', 'Sunday/holiday']\n",
    "                for k in range(1, len(for_time)):\n",
    "                    if for_time[k].th.text == '종착':\n",
    "                        for_week_count += 1\n",
    "                    else:\n",
    "                        for_timetable = {}  # line/station/hour/minute\n",
    "                        for_timetable['line'] = for_line[i].text # line 이름 저장\n",
    "                        for_timetable['station'] = for_station[j].text # station 이름 저장\n",
    "                        for_timetable['day_of_week'] = for_day_of_week[for_week_count] # 요일 저장 - 평일/ 토요일/ 일요일,공휴일\n",
    "                        for_timetable['hour'] = int((for_time[k].th.text)[:-1]) # 시간 저장\n",
    "                        \n",
    "                        for direc in range(2):\n",
    "                            for_timetable['direction'] = for_time[k].find_all('td')[direc]['class'][0] # 상행인지 하행인지 저장\n",
    "                            for for_minute in for_time[k].find_all('td')[direc].find_all('li'):\n",
    "                                if for_minute.text != '-':\n",
    "                                    for_timetable['minute'] = int(for_minute.text) # 분 저장\n",
    "                                    for_timetable['last_station'] = for_minute['data-arrivalstation']\n",
    "                                    conn.execute(subway_timetable.insert(), for_timetable) # DB에 저장\n",
    "                browser.close()\n",
    "                browser.switch_to.window(browser.window_handles[0]) # 원래의 탭으로 이동\n",
    "                time.sleep(2)"
   ]
  },
  {
   "cell_type": "markdown",
   "metadata": {},
   "source": [
    "---"
   ]
  },
  {
   "cell_type": "markdown",
   "metadata": {},
   "source": [
    "subway_timetable.db 정의"
   ]
  },
  {
   "cell_type": "code",
   "execution_count": 4,
   "metadata": {},
   "outputs": [
    {
     "name": "stdout",
     "output_type": "stream",
     "text": [
      "2018-08-18 15:02:39,700 INFO sqlalchemy.engine.base.Engine SELECT CAST('test plain returns' AS VARCHAR(60)) AS anon_1\n",
      "2018-08-18 15:02:39,703 INFO sqlalchemy.engine.base.Engine ()\n",
      "2018-08-18 15:02:39,705 INFO sqlalchemy.engine.base.Engine SELECT CAST('test unicode returns' AS VARCHAR(60)) AS anon_1\n",
      "2018-08-18 15:02:39,706 INFO sqlalchemy.engine.base.Engine ()\n",
      "2018-08-18 15:02:39,708 INFO sqlalchemy.engine.base.Engine PRAGMA table_info(\"subway_timetable\")\n",
      "2018-08-18 15:02:39,709 INFO sqlalchemy.engine.base.Engine ()\n",
      "2018-08-18 15:02:39,712 INFO sqlalchemy.engine.base.Engine \n",
      "CREATE TABLE subway_timetable (\n",
      "\tid INTEGER NOT NULL, \n",
      "\tline VARCHAR NOT NULL, \n",
      "\tstation VARCHAR NOT NULL, \n",
      "\tdirection VARCHAR NOT NULL, \n",
      "\tday_of_week VARCHAR NOT NULL, \n",
      "\tlast_station VARCHAR, \n",
      "\thour INTEGER, \n",
      "\tminute INTEGER, \n",
      "\tPRIMARY KEY (id)\n",
      ")\n",
      "\n",
      "\n",
      "2018-08-18 15:02:39,713 INFO sqlalchemy.engine.base.Engine ()\n",
      "2018-08-18 15:02:39,754 INFO sqlalchemy.engine.base.Engine COMMIT\n"
     ]
    }
   ],
   "source": [
    "engine = create_engine(\"sqlite:///subway_timetable.db\", echo = True)\n",
    "metadata = MetaData()\n",
    "\n",
    "subway_timetable = Table('subway_timetable', metadata,\n",
    "                        Column('id', Integer, primary_key =True),\n",
    "                        Column('line', String, nullable = False),\n",
    "                        Column('station', String, nullable = False),\n",
    "                        Column('direction', String, nullable = False),\n",
    "                        Column('day_of_week', String, nullable = False), \n",
    "                        Column('last_station', String), \n",
    "                        Column('hour', Integer),\n",
    "                        Column('minute', Integer)\n",
    "                    )\n",
    "\n",
    "metadata.create_all(engine)"
   ]
  },
  {
   "cell_type": "code",
   "execution_count": null,
   "metadata": {},
   "outputs": [],
   "source": [
    "for_subway_timetable()"
   ]
  },
  {
   "cell_type": "markdown",
   "metadata": {},
   "source": [
    "---"
   ]
  }
 ],
 "metadata": {
  "kernelspec": {
   "display_name": "Python 3",
   "language": "python",
   "name": "python3"
  },
  "language_info": {
   "codemirror_mode": {
    "name": "ipython",
    "version": 3
   },
   "file_extension": ".py",
   "mimetype": "text/x-python",
   "name": "python",
   "nbconvert_exporter": "python",
   "pygments_lexer": "ipython3",
   "version": "3.6.5"
  }
 },
 "nbformat": 4,
 "nbformat_minor": 2
}
